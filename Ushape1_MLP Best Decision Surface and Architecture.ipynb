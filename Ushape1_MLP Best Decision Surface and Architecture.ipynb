{
 "cells": [
  {
   "cell_type": "code",
   "execution_count": 1,
   "metadata": {},
   "outputs": [],
   "source": [
    "import pandas as pd\n",
    "import matplotlib.pyplot as plt\n",
    "import numpy as np\n",
    "import seaborn as sns"
   ]
  },
  {
   "cell_type": "code",
   "execution_count": 3,
   "metadata": {
    "execution": {
     "iopub.execute_input": "2022-03-06T03:32:56.586925Z",
     "iopub.status.busy": "2022-03-06T03:32:56.586618Z",
     "iopub.status.idle": "2022-03-06T03:32:56.633466Z",
     "shell.execute_reply": "2022-03-06T03:32:56.632634Z",
     "shell.execute_reply.started": "2022-03-06T03:32:56.586892Z"
    }
   },
   "outputs": [],
   "source": [
    "df = pd.read_csv(r\"C:\\Users\\LENOVO\\Desktop\\1.ushape.csv\",header=None)"
   ]
  },
  {
   "cell_type": "code",
   "execution_count": 65,
   "metadata": {
    "execution": {
     "iopub.execute_input": "2022-03-06T03:33:04.565582Z",
     "iopub.status.busy": "2022-03-06T03:33:04.565302Z",
     "iopub.status.idle": "2022-03-06T03:33:04.590711Z",
     "shell.execute_reply": "2022-03-06T03:33:04.590106Z",
     "shell.execute_reply.started": "2022-03-06T03:33:04.565552Z"
    }
   },
   "outputs": [
    {
     "data": {
      "text/html": [
       "<div>\n",
       "<style scoped>\n",
       "    .dataframe tbody tr th:only-of-type {\n",
       "        vertical-align: middle;\n",
       "    }\n",
       "\n",
       "    .dataframe tbody tr th {\n",
       "        vertical-align: top;\n",
       "    }\n",
       "\n",
       "    .dataframe thead th {\n",
       "        text-align: right;\n",
       "    }\n",
       "</style>\n",
       "<table border=\"1\" class=\"dataframe\">\n",
       "  <thead>\n",
       "    <tr style=\"text-align: right;\">\n",
       "      <th></th>\n",
       "      <th>0</th>\n",
       "      <th>1</th>\n",
       "      <th>2</th>\n",
       "    </tr>\n",
       "  </thead>\n",
       "  <tbody>\n",
       "    <tr>\n",
       "      <th>0</th>\n",
       "      <td>0.031595</td>\n",
       "      <td>0.986988</td>\n",
       "      <td>0.0</td>\n",
       "    </tr>\n",
       "    <tr>\n",
       "      <th>1</th>\n",
       "      <td>2.115098</td>\n",
       "      <td>-0.046244</td>\n",
       "      <td>1.0</td>\n",
       "    </tr>\n",
       "    <tr>\n",
       "      <th>2</th>\n",
       "      <td>0.882490</td>\n",
       "      <td>-0.075756</td>\n",
       "      <td>0.0</td>\n",
       "    </tr>\n",
       "    <tr>\n",
       "      <th>3</th>\n",
       "      <td>-0.055144</td>\n",
       "      <td>-0.037332</td>\n",
       "      <td>1.0</td>\n",
       "    </tr>\n",
       "    <tr>\n",
       "      <th>4</th>\n",
       "      <td>0.829545</td>\n",
       "      <td>-0.539321</td>\n",
       "      <td>1.0</td>\n",
       "    </tr>\n",
       "  </tbody>\n",
       "</table>\n",
       "</div>"
      ],
      "text/plain": [
       "          0         1    2\n",
       "0  0.031595  0.986988  0.0\n",
       "1  2.115098 -0.046244  1.0\n",
       "2  0.882490 -0.075756  0.0\n",
       "3 -0.055144 -0.037332  1.0\n",
       "4  0.829545 -0.539321  1.0"
      ]
     },
     "execution_count": 65,
     "metadata": {},
     "output_type": "execute_result"
    }
   ],
   "source": [
    "df.head()"
   ]
  },
  {
   "cell_type": "code",
   "execution_count": 66,
   "metadata": {
    "execution": {
     "iopub.execute_input": "2022-03-06T03:34:15.211980Z",
     "iopub.status.busy": "2022-03-06T03:34:15.211214Z",
     "iopub.status.idle": "2022-03-06T03:34:16.378692Z",
     "shell.execute_reply": "2022-03-06T03:34:16.377875Z",
     "shell.execute_reply.started": "2022-03-06T03:34:15.211936Z"
    }
   },
   "outputs": [],
   "source": [
    "from sklearn.model_selection import train_test_split\n",
    "X_train,X_test,y_train,y_test = train_test_split(df[[0,1]],df[2],test_size=0.2,random_state=0)"
   ]
  },
  {
   "cell_type": "code",
   "execution_count": 67,
   "metadata": {
    "execution": {
     "iopub.execute_input": "2022-03-06T03:34:23.642185Z",
     "iopub.status.busy": "2022-03-06T03:34:23.641345Z",
     "iopub.status.idle": "2022-03-06T03:34:23.656143Z",
     "shell.execute_reply": "2022-03-06T03:34:23.655395Z",
     "shell.execute_reply.started": "2022-03-06T03:34:23.642134Z"
    }
   },
   "outputs": [],
   "source": [
    "from sklearn.preprocessing import StandardScaler\n",
    "scaler = StandardScaler()\n",
    "\n",
    "X_train_trf = scaler.fit_transform(X_train)\n",
    "X_test_trf = scaler.transform(X_test)"
   ]
  },
  {
   "cell_type": "code",
   "execution_count": 68,
   "metadata": {},
   "outputs": [
    {
     "data": {
      "text/plain": [
       "(80, 2)"
      ]
     },
     "execution_count": 68,
     "metadata": {},
     "output_type": "execute_result"
    }
   ],
   "source": [
    "X_train_trf.shape"
   ]
  },
  {
   "cell_type": "code",
   "execution_count": 69,
   "metadata": {
    "execution": {
     "iopub.execute_input": "2022-03-06T03:34:31.132229Z",
     "iopub.status.busy": "2022-03-06T03:34:31.131533Z",
     "iopub.status.idle": "2022-03-06T03:34:37.435530Z",
     "shell.execute_reply": "2022-03-06T03:34:37.434835Z",
     "shell.execute_reply.started": "2022-03-06T03:34:31.132167Z"
    }
   },
   "outputs": [],
   "source": [
    "import tensorflow\n",
    "from tensorflow import keras\n",
    "from tensorflow.keras import Sequential \n",
    "from tensorflow.keras.layers import Dense"
   ]
  },
  {
   "cell_type": "code",
   "execution_count": 70,
   "metadata": {},
   "outputs": [
    {
     "name": "stderr",
     "output_type": "stream",
     "text": [
      "C:\\Users\\LENOVO\\anaconda3\\lib\\site-packages\\seaborn\\_decorators.py:36: FutureWarning: Pass the following variables as keyword args: x, y. From version 0.12, the only valid positional argument will be `data`, and passing other arguments without an explicit keyword will result in an error or misinterpretation.\n",
      "  warnings.warn(\n"
     ]
    },
    {
     "data": {
      "text/plain": [
       "<AxesSubplot:xlabel='0', ylabel='1'>"
      ]
     },
     "execution_count": 70,
     "metadata": {},
     "output_type": "execute_result"
    },
    {
     "data": {
      "image/png": "[encoded data removed]",
      "text/plain": [
       "<Figure size 640x480 with 1 Axes>"
      ]
     },
     "metadata": {},
     "output_type": "display_data"
    }
   ],
   "source": [
    "sns.scatterplot(df[0],df[1],hue=df[2])"
   ]
  },
  {
   "cell_type": "code",
   "execution_count": 71,
   "metadata": {
    "execution": {
     "iopub.execute_input": "2022-03-06T03:34:37.826813Z",
     "iopub.status.busy": "2022-03-06T03:34:37.826320Z",
     "iopub.status.idle": "2022-03-06T03:34:37.947521Z",
     "shell.execute_reply": "2022-03-06T03:34:37.946580Z",
     "shell.execute_reply.started": "2022-03-06T03:34:37.826746Z"
    }
   },
   "outputs": [],
   "source": [
    "model = Sequential()\n",
    "model.add(Dense(3,activation='sigmoid',input_dim=2))\n",
    "model.add(Dense(2,activation='sigmoid'))\n",
    "model.add(Dense(1,activation='sigmoid'))"
   ]
  },
  {
   "cell_type": "code",
   "execution_count": 55,
   "metadata": {
    "execution": {
     "iopub.execute_input": "2022-03-06T03:34:51.251022Z",
     "iopub.status.busy": "2022-03-06T03:34:51.250291Z",
     "iopub.status.idle": "2022-03-06T03:34:51.258677Z",
     "shell.execute_reply": "2022-03-06T03:34:51.257596Z",
     "shell.execute_reply.started": "2022-03-06T03:34:51.250979Z"
    }
   },
   "outputs": [
    {
     "name": "stdout",
     "output_type": "stream",
     "text": [
      "Model: \"sequential_3\"\n",
      "_________________________________________________________________\n",
      " Layer (type)                Output Shape              Param #   \n",
      "=================================================================\n",
      " dense_9 (Dense)             (None, 3)                 9         \n",
      "                                                                 \n",
      " dense_10 (Dense)            (None, 2)                 8         \n",
      "                                                                 \n",
      " dense_11 (Dense)            (None, 1)                 3         \n",
      "                                                                 \n",
      "=================================================================\n",
      "Total params: 20\n",
      "Trainable params: 20\n",
      "Non-trainable params: 0\n",
      "_________________________________________________________________\n"
     ]
    }
   ],
   "source": [
    "model.summary()"
   ]
  },
  {
   "cell_type": "code",
   "execution_count": 56,
   "metadata": {},
   "outputs": [
    {
     "data": {
      "text/plain": [
       "[array([[-0.8559965 , -0.34210932, -0.6310707 ],\n",
       "        [ 0.5035732 ,  1.0269225 , -0.7773082 ]], dtype=float32),\n",
       " array([0., 0., 0.], dtype=float32),\n",
       " array([[-0.04560137,  0.14494193],\n",
       "        [ 0.32097435,  0.72486055],\n",
       "        [-0.6799346 ,  0.5725553 ]], dtype=float32),\n",
       " array([0., 0.], dtype=float32),\n",
       " array([[-1.3890252 ],\n",
       "        [ 0.17489016]], dtype=float32),\n",
       " array([0.], dtype=float32)]"
      ]
     },
     "execution_count": 56,
     "metadata": {},
     "output_type": "execute_result"
    }
   ],
   "source": [
    "model.get_weights()"
   ]
  },
  {
   "cell_type": "code",
   "execution_count": 57,
   "metadata": {},
   "outputs": [],
   "source": [
    "weights=model.get_weights()"
   ]
  },
  {
   "cell_type": "code",
   "execution_count": 58,
   "metadata": {},
   "outputs": [
    {
     "data": {
      "text/plain": [
       "(2, 3)"
      ]
     },
     "execution_count": 58,
     "metadata": {},
     "output_type": "execute_result"
    }
   ],
   "source": [
    "weights[0].shape"
   ]
  },
  {
   "cell_type": "code",
   "execution_count": 59,
   "metadata": {},
   "outputs": [],
   "source": [
    "weights[0]=np.full(weights[0].shape,4)\n",
    "weights[1]=np.full(weights[1].shape,4)\n",
    "weights[2]=np.full(weights[2].shape,4)\n",
    "weights[3]=np.full(weights[3].shape,4)\n",
    "weights[4]=np.full(weights[4].shape,4)\n",
    "weights[5]=np.full(weights[5].shape,4)\n",
    "model.set_weights(weights)"
   ]
  },
  {
   "cell_type": "code",
   "execution_count": 60,
   "metadata": {},
   "outputs": [
    {
     "data": {
      "text/plain": [
       "[array([[4., 4., 4.],\n",
       "        [4., 4., 4.]], dtype=float32),\n",
       " array([4., 4., 4.], dtype=float32),\n",
       " array([[4., 4.],\n",
       "        [4., 4.],\n",
       "        [4., 4.]], dtype=float32),\n",
       " array([4., 4.], dtype=float32),\n",
       " array([[4.],\n",
       "        [4.]], dtype=float32),\n",
       " array([4.], dtype=float32)]"
      ]
     },
     "execution_count": 60,
     "metadata": {},
     "output_type": "execute_result"
    }
   ],
   "source": [
    "model.get_weights()"
   ]
  },
  {
   "cell_type": "code",
   "execution_count": 61,
   "metadata": {
    "execution": {
     "iopub.execute_input": "2022-03-06T03:34:59.301604Z",
     "iopub.status.busy": "2022-03-06T03:34:59.301333Z",
     "iopub.status.idle": "2022-03-06T03:34:59.315593Z",
     "shell.execute_reply": "2022-03-06T03:34:59.314884Z",
     "shell.execute_reply.started": "2022-03-06T03:34:59.301574Z"
    }
   },
   "outputs": [],
   "source": [
    "model.compile(optimizer='Adam',loss='binary_crossentropy',metrics=['accuracy'])"
   ]
  },
  {
   "cell_type": "code",
   "execution_count": 62,
   "metadata": {
    "execution": {
     "iopub.execute_input": "2022-03-06T03:35:50.902485Z",
     "iopub.status.busy": "2022-03-06T03:35:50.901904Z",
     "iopub.status.idle": "2022-03-06T03:36:19.455620Z",
     "shell.execute_reply": "2022-03-06T03:36:19.454726Z",
     "shell.execute_reply.started": "2022-03-06T03:35:50.902437Z"
    }
   },
   "outputs": [
    {
     "name": "stdout",
     "output_type": "stream",
     "text": [
      "Epoch 1/100\n",
      "2/2 [==============================] - 2s 293ms/step - loss: 6.3744 - accuracy: 0.4688 - val_loss: 5.2474 - val_accuracy: 0.5625\n",
      "Epoch 2/100\n",
      "2/2 [==============================] - 0s 76ms/step - loss: 6.3712 - accuracy: 0.4688 - val_loss: 5.2449 - val_accuracy: 0.5625\n",
      "Epoch 3/100\n",
      "2/2 [==============================] - 0s 102ms/step - loss: 6.3680 - accuracy: 0.4688 - val_loss: 5.2422 - val_accuracy: 0.5625\n",
      "Epoch 4/100\n",
      "2/2 [==============================] - 0s 94ms/step - loss: 6.3648 - accuracy: 0.4688 - val_loss: 5.2396 - val_accuracy: 0.5625\n",
      "Epoch 5/100\n",
      "2/2 [==============================] - 0s 69ms/step - loss: 6.3618 - accuracy: 0.4688 - val_loss: 5.2370 - val_accuracy: 0.5625\n",
      "Epoch 6/100\n",
      "2/2 [==============================] - 0s 71ms/step - loss: 6.3585 - accuracy: 0.4688 - val_loss: 5.2344 - val_accuracy: 0.5625\n",
      "Epoch 7/100\n",
      "2/2 [==============================] - 0s 68ms/step - loss: 6.3555 - accuracy: 0.4688 - val_loss: 5.2318 - val_accuracy: 0.5625\n",
      "Epoch 8/100\n",
      "2/2 [==============================] - 0s 66ms/step - loss: 6.3522 - accuracy: 0.4688 - val_loss: 5.2292 - val_accuracy: 0.5625\n",
      "Epoch 9/100\n",
      "2/2 [==============================] - 0s 69ms/step - loss: 6.3492 - accuracy: 0.4688 - val_loss: 5.2267 - val_accuracy: 0.5625\n",
      "Epoch 10/100\n",
      "2/2 [==============================] - 0s 61ms/step - loss: 6.3460 - accuracy: 0.4688 - val_loss: 5.2241 - val_accuracy: 0.5625\n",
      "Epoch 11/100\n",
      "2/2 [==============================] - 0s 59ms/step - loss: 6.3430 - accuracy: 0.4688 - val_loss: 5.2215 - val_accuracy: 0.5625\n",
      "Epoch 12/100\n",
      "2/2 [==============================] - 0s 60ms/step - loss: 6.3396 - accuracy: 0.4688 - val_loss: 5.2190 - val_accuracy: 0.5625\n",
      "Epoch 13/100\n",
      "2/2 [==============================] - 0s 68ms/step - loss: 6.3364 - accuracy: 0.4688 - val_loss: 5.2163 - val_accuracy: 0.5625\n",
      "Epoch 14/100\n",
      "2/2 [==============================] - 0s 58ms/step - loss: 6.3335 - accuracy: 0.4688 - val_loss: 5.2137 - val_accuracy: 0.5625\n",
      "Epoch 15/100\n",
      "2/2 [==============================] - 0s 61ms/step - loss: 6.3301 - accuracy: 0.4688 - val_loss: 5.2111 - val_accuracy: 0.5625\n",
      "Epoch 16/100\n",
      "2/2 [==============================] - 0s 60ms/step - loss: 6.3270 - accuracy: 0.4688 - val_loss: 5.2084 - val_accuracy: 0.5625\n",
      "Epoch 17/100\n",
      "2/2 [==============================] - 0s 72ms/step - loss: 6.3238 - accuracy: 0.4688 - val_loss: 5.2058 - val_accuracy: 0.5625\n",
      "Epoch 18/100\n",
      "2/2 [==============================] - 0s 62ms/step - loss: 6.3205 - accuracy: 0.4688 - val_loss: 5.2031 - val_accuracy: 0.5625\n",
      "Epoch 19/100\n",
      "2/2 [==============================] - 0s 72ms/step - loss: 6.3174 - accuracy: 0.4688 - val_loss: 5.2005 - val_accuracy: 0.5625\n",
      "Epoch 20/100\n",
      "2/2 [==============================] - 0s 61ms/step - loss: 6.3141 - accuracy: 0.4688 - val_loss: 5.1979 - val_accuracy: 0.5625\n",
      "Epoch 21/100\n",
      "2/2 [==============================] - 0s 72ms/step - loss: 6.3111 - accuracy: 0.4688 - val_loss: 5.1953 - val_accuracy: 0.5625\n",
      "Epoch 22/100\n",
      "2/2 [==============================] - 0s 71ms/step - loss: 6.3077 - accuracy: 0.4688 - val_loss: 5.1927 - val_accuracy: 0.5625\n",
      "Epoch 23/100\n",
      "2/2 [==============================] - 0s 60ms/step - loss: 6.3046 - accuracy: 0.4688 - val_loss: 5.1901 - val_accuracy: 0.5625\n",
      "Epoch 24/100\n",
      "2/2 [==============================] - 0s 59ms/step - loss: 6.3015 - accuracy: 0.4688 - val_loss: 5.1875 - val_accuracy: 0.5625\n",
      "Epoch 25/100\n",
      "2/2 [==============================] - 0s 73ms/step - loss: 6.2983 - accuracy: 0.4688 - val_loss: 5.1849 - val_accuracy: 0.5625\n",
      "Epoch 26/100\n",
      "2/2 [==============================] - 0s 73ms/step - loss: 6.2952 - accuracy: 0.4688 - val_loss: 5.1823 - val_accuracy: 0.5625\n",
      "Epoch 27/100\n",
      "2/2 [==============================] - 0s 94ms/step - loss: 6.2919 - accuracy: 0.4688 - val_loss: 5.1796 - val_accuracy: 0.5625\n",
      "Epoch 28/100\n",
      "2/2 [==============================] - 0s 93ms/step - loss: 6.2887 - accuracy: 0.4688 - val_loss: 5.1770 - val_accuracy: 0.5625\n",
      "Epoch 29/100\n",
      "2/2 [==============================] - 0s 89ms/step - loss: 6.2854 - accuracy: 0.4688 - val_loss: 5.1743 - val_accuracy: 0.5625\n",
      "Epoch 30/100\n",
      "2/2 [==============================] - 0s 70ms/step - loss: 6.2822 - accuracy: 0.4688 - val_loss: 5.1716 - val_accuracy: 0.5625\n",
      "Epoch 31/100\n",
      "2/2 [==============================] - 0s 102ms/step - loss: 6.2791 - accuracy: 0.4688 - val_loss: 5.1689 - val_accuracy: 0.5625\n",
      "Epoch 32/100\n",
      "2/2 [==============================] - 0s 74ms/step - loss: 6.2757 - accuracy: 0.4688 - val_loss: 5.1663 - val_accuracy: 0.5625\n",
      "Epoch 33/100\n",
      "2/2 [==============================] - 0s 71ms/step - loss: 6.2726 - accuracy: 0.4688 - val_loss: 5.1637 - val_accuracy: 0.5625\n",
      "Epoch 34/100\n",
      "2/2 [==============================] - 0s 73ms/step - loss: 6.2693 - accuracy: 0.4688 - val_loss: 5.1611 - val_accuracy: 0.5625\n",
      "Epoch 35/100\n",
      "2/2 [==============================] - 0s 70ms/step - loss: 6.2662 - accuracy: 0.4688 - val_loss: 5.1585 - val_accuracy: 0.5625\n",
      "Epoch 36/100\n",
      "2/2 [==============================] - 0s 74ms/step - loss: 6.2630 - accuracy: 0.4688 - val_loss: 5.1559 - val_accuracy: 0.5625\n",
      "Epoch 37/100\n",
      "2/2 [==============================] - 0s 61ms/step - loss: 6.2599 - accuracy: 0.4688 - val_loss: 5.1532 - val_accuracy: 0.5625\n",
      "Epoch 38/100\n",
      "2/2 [==============================] - 0s 63ms/step - loss: 6.2567 - accuracy: 0.4688 - val_loss: 5.1506 - val_accuracy: 0.5625\n",
      "Epoch 39/100\n",
      "2/2 [==============================] - 0s 101ms/step - loss: 6.2535 - accuracy: 0.4688 - val_loss: 5.1480 - val_accuracy: 0.5625\n",
      "Epoch 40/100\n",
      "2/2 [==============================] - 0s 109ms/step - loss: 6.2504 - accuracy: 0.4688 - val_loss: 5.1454 - val_accuracy: 0.5625\n",
      "Epoch 41/100\n",
      "2/2 [==============================] - 0s 81ms/step - loss: 6.2472 - accuracy: 0.4688 - val_loss: 5.1428 - val_accuracy: 0.5625\n",
      "Epoch 42/100\n",
      "2/2 [==============================] - 0s 94ms/step - loss: 6.2440 - accuracy: 0.4688 - val_loss: 5.1403 - val_accuracy: 0.5625\n",
      "Epoch 43/100\n",
      "2/2 [==============================] - 0s 90ms/step - loss: 6.2409 - accuracy: 0.4688 - val_loss: 5.1377 - val_accuracy: 0.5625\n",
      "Epoch 44/100\n",
      "2/2 [==============================] - 0s 113ms/step - loss: 6.2377 - accuracy: 0.4688 - val_loss: 5.1351 - val_accuracy: 0.5625\n",
      "Epoch 45/100\n",
      "2/2 [==============================] - 0s 92ms/step - loss: 6.2347 - accuracy: 0.4688 - val_loss: 5.1324 - val_accuracy: 0.5625\n",
      "Epoch 46/100\n",
      "2/2 [==============================] - 0s 76ms/step - loss: 6.2314 - accuracy: 0.4688 - val_loss: 5.1299 - val_accuracy: 0.5625\n",
      "Epoch 47/100\n",
      "2/2 [==============================] - 0s 71ms/step - loss: 6.2283 - accuracy: 0.4688 - val_loss: 5.1273 - val_accuracy: 0.5625\n",
      "Epoch 48/100\n",
      "2/2 [==============================] - 0s 71ms/step - loss: 6.2251 - accuracy: 0.4688 - val_loss: 5.1247 - val_accuracy: 0.5625\n",
      "Epoch 49/100\n",
      "2/2 [==============================] - 0s 81ms/step - loss: 6.2220 - accuracy: 0.4688 - val_loss: 5.1221 - val_accuracy: 0.5625\n",
      "Epoch 50/100\n",
      "2/2 [==============================] - 0s 75ms/step - loss: 6.2187 - accuracy: 0.4688 - val_loss: 5.1195 - val_accuracy: 0.5625\n",
      "Epoch 51/100\n",
      "2/2 [==============================] - 0s 75ms/step - loss: 6.2156 - accuracy: 0.4688 - val_loss: 5.1168 - val_accuracy: 0.5625\n",
      "Epoch 52/100\n",
      "2/2 [==============================] - 0s 55ms/step - loss: 6.2124 - accuracy: 0.4688 - val_loss: 5.1142 - val_accuracy: 0.5625\n",
      "Epoch 53/100\n",
      "2/2 [==============================] - 0s 53ms/step - loss: 6.2092 - accuracy: 0.4688 - val_loss: 5.1116 - val_accuracy: 0.5625\n",
      "Epoch 54/100\n",
      "2/2 [==============================] - 0s 59ms/step - loss: 6.2060 - accuracy: 0.4688 - val_loss: 5.1089 - val_accuracy: 0.5625\n",
      "Epoch 55/100\n",
      "2/2 [==============================] - 0s 68ms/step - loss: 6.2028 - accuracy: 0.4688 - val_loss: 5.1063 - val_accuracy: 0.5625\n",
      "Epoch 56/100\n",
      "2/2 [==============================] - 0s 80ms/step - loss: 6.1998 - accuracy: 0.4688 - val_loss: 5.1037 - val_accuracy: 0.5625\n",
      "Epoch 57/100\n",
      "2/2 [==============================] - 0s 93ms/step - loss: 6.1965 - accuracy: 0.4688 - val_loss: 5.1011 - val_accuracy: 0.5625\n",
      "Epoch 58/100\n",
      "2/2 [==============================] - 0s 85ms/step - loss: 6.1934 - accuracy: 0.4688 - val_loss: 5.0986 - val_accuracy: 0.5625\n",
      "Epoch 59/100\n",
      "2/2 [==============================] - 0s 85ms/step - loss: 6.1904 - accuracy: 0.4688 - val_loss: 5.0961 - val_accuracy: 0.5625\n",
      "Epoch 60/100\n",
      "2/2 [==============================] - 0s 69ms/step - loss: 6.1872 - accuracy: 0.4688 - val_loss: 5.0936 - val_accuracy: 0.5625\n",
      "Epoch 61/100\n",
      "2/2 [==============================] - 0s 60ms/step - loss: 6.1842 - accuracy: 0.4688 - val_loss: 5.0911 - val_accuracy: 0.5625\n",
      "Epoch 62/100\n",
      "2/2 [==============================] - 0s 53ms/step - loss: 6.1812 - accuracy: 0.4688 - val_loss: 5.0886 - val_accuracy: 0.5625\n",
      "Epoch 63/100\n",
      "2/2 [==============================] - 0s 59ms/step - loss: 6.1782 - accuracy: 0.4688 - val_loss: 5.0862 - val_accuracy: 0.5625\n",
      "Epoch 64/100\n",
      "2/2 [==============================] - 0s 81ms/step - loss: 6.1751 - accuracy: 0.4688 - val_loss: 5.0837 - val_accuracy: 0.5625\n",
      "Epoch 65/100\n",
      "2/2 [==============================] - 0s 90ms/step - loss: 6.1722 - accuracy: 0.4688 - val_loss: 5.0812 - val_accuracy: 0.5625\n",
      "Epoch 66/100\n",
      "2/2 [==============================] - 0s 90ms/step - loss: 6.1691 - accuracy: 0.4688 - val_loss: 5.0787 - val_accuracy: 0.5625\n",
      "Epoch 67/100\n",
      "2/2 [==============================] - 0s 92ms/step - loss: 6.1661 - accuracy: 0.4688 - val_loss: 5.0762 - val_accuracy: 0.5625\n",
      "Epoch 68/100\n",
      "2/2 [==============================] - 0s 64ms/step - loss: 6.1631 - accuracy: 0.4688 - val_loss: 5.0737 - val_accuracy: 0.5625\n",
      "Epoch 69/100\n",
      "2/2 [==============================] - 0s 84ms/step - loss: 6.1600 - accuracy: 0.4688 - val_loss: 5.0713 - val_accuracy: 0.5625\n",
      "Epoch 70/100\n",
      "2/2 [==============================] - 0s 88ms/step - loss: 6.1570 - accuracy: 0.4688 - val_loss: 5.0688 - val_accuracy: 0.5625\n",
      "Epoch 71/100\n",
      "2/2 [==============================] - 0s 92ms/step - loss: 6.1539 - accuracy: 0.4688 - val_loss: 5.0662 - val_accuracy: 0.5625\n",
      "Epoch 72/100\n",
      "2/2 [==============================] - 0s 90ms/step - loss: 6.1509 - accuracy: 0.4688 - val_loss: 5.0637 - val_accuracy: 0.5625\n",
      "Epoch 73/100\n",
      "2/2 [==============================] - 0s 58ms/step - loss: 6.1477 - accuracy: 0.4688 - val_loss: 5.0611 - val_accuracy: 0.5625\n",
      "Epoch 74/100\n",
      "2/2 [==============================] - 0s 63ms/step - loss: 6.1446 - accuracy: 0.4688 - val_loss: 5.0585 - val_accuracy: 0.5625\n",
      "Epoch 75/100\n",
      "2/2 [==============================] - 0s 70ms/step - loss: 6.1415 - accuracy: 0.4688 - val_loss: 5.0559 - val_accuracy: 0.5625\n",
      "Epoch 76/100\n",
      "2/2 [==============================] - 0s 64ms/step - loss: 6.1384 - accuracy: 0.4688 - val_loss: 5.0533 - val_accuracy: 0.5625\n",
      "Epoch 77/100\n",
      "2/2 [==============================] - 0s 55ms/step - loss: 6.1352 - accuracy: 0.4688 - val_loss: 5.0508 - val_accuracy: 0.5625\n",
      "Epoch 78/100\n",
      "2/2 [==============================] - 0s 53ms/step - loss: 6.1321 - accuracy: 0.4688 - val_loss: 5.0482 - val_accuracy: 0.5625\n",
      "Epoch 79/100\n",
      "2/2 [==============================] - 0s 57ms/step - loss: 6.1290 - accuracy: 0.4688 - val_loss: 5.0457 - val_accuracy: 0.5625\n",
      "Epoch 80/100\n",
      "2/2 [==============================] - 0s 54ms/step - loss: 6.1259 - accuracy: 0.4688 - val_loss: 5.0431 - val_accuracy: 0.5625\n",
      "Epoch 81/100\n",
      "2/2 [==============================] - 0s 56ms/step - loss: 6.1228 - accuracy: 0.4688 - val_loss: 5.0406 - val_accuracy: 0.5625\n",
      "Epoch 82/100\n",
      "2/2 [==============================] - 0s 58ms/step - loss: 6.1198 - accuracy: 0.4688 - val_loss: 5.0380 - val_accuracy: 0.5625\n",
      "Epoch 83/100\n",
      "2/2 [==============================] - 0s 81ms/step - loss: 6.1167 - accuracy: 0.4688 - val_loss: 5.0355 - val_accuracy: 0.5625\n",
      "Epoch 84/100\n",
      "2/2 [==============================] - 0s 94ms/step - loss: 6.1137 - accuracy: 0.4688 - val_loss: 5.0331 - val_accuracy: 0.5625\n",
      "Epoch 85/100\n",
      "2/2 [==============================] - 0s 89ms/step - loss: 6.1106 - accuracy: 0.4688 - val_loss: 5.0306 - val_accuracy: 0.5625\n",
      "Epoch 86/100\n",
      "2/2 [==============================] - 0s 96ms/step - loss: 6.1077 - accuracy: 0.4688 - val_loss: 5.0282 - val_accuracy: 0.5625\n",
      "Epoch 87/100\n",
      "2/2 [==============================] - 0s 83ms/step - loss: 6.1046 - accuracy: 0.4688 - val_loss: 5.0258 - val_accuracy: 0.5625\n",
      "Epoch 88/100\n",
      "2/2 [==============================] - 0s 71ms/step - loss: 6.1015 - accuracy: 0.4688 - val_loss: 5.0232 - val_accuracy: 0.5625\n",
      "Epoch 89/100\n",
      "2/2 [==============================] - 0s 72ms/step - loss: 6.0986 - accuracy: 0.4688 - val_loss: 5.0206 - val_accuracy: 0.5625\n",
      "Epoch 90/100\n",
      "2/2 [==============================] - 0s 73ms/step - loss: 6.0954 - accuracy: 0.4688 - val_loss: 5.0180 - val_accuracy: 0.5625\n",
      "Epoch 91/100\n",
      "2/2 [==============================] - 0s 59ms/step - loss: 6.0922 - accuracy: 0.4688 - val_loss: 5.0154 - val_accuracy: 0.5625\n",
      "Epoch 92/100\n",
      "2/2 [==============================] - 0s 94ms/step - loss: 6.0891 - accuracy: 0.4688 - val_loss: 5.0128 - val_accuracy: 0.5625\n",
      "Epoch 93/100\n",
      "2/2 [==============================] - 0s 82ms/step - loss: 6.0860 - accuracy: 0.4688 - val_loss: 5.0102 - val_accuracy: 0.5625\n",
      "Epoch 94/100\n",
      "2/2 [==============================] - 0s 66ms/step - loss: 6.0827 - accuracy: 0.4688 - val_loss: 5.0077 - val_accuracy: 0.5625\n",
      "Epoch 95/100\n",
      "2/2 [==============================] - 0s 65ms/step - loss: 6.0796 - accuracy: 0.4688 - val_loss: 5.0051 - val_accuracy: 0.5625\n",
      "Epoch 96/100\n",
      "2/2 [==============================] - 0s 72ms/step - loss: 6.0765 - accuracy: 0.4688 - val_loss: 5.0025 - val_accuracy: 0.5625\n",
      "Epoch 97/100\n",
      "2/2 [==============================] - 0s 63ms/step - loss: 6.0735 - accuracy: 0.4688 - val_loss: 5.0000 - val_accuracy: 0.5625\n",
      "Epoch 98/100\n",
      "2/2 [==============================] - 0s 62ms/step - loss: 6.0704 - accuracy: 0.4688 - val_loss: 4.9974 - val_accuracy: 0.5625\n",
      "Epoch 99/100\n",
      "2/2 [==============================] - 0s 64ms/step - loss: 6.0672 - accuracy: 0.4688 - val_loss: 4.9949 - val_accuracy: 0.5625\n",
      "Epoch 100/100\n",
      "2/2 [==============================] - 0s 70ms/step - loss: 6.0641 - accuracy: 0.4688 - val_loss: 4.9924 - val_accuracy: 0.5625\n"
     ]
    }
   ],
   "source": [
    "history = model.fit(X_train,y_train,batch_size=50,epochs=100,verbose=1,validation_split=0.2,)"
   ]
  },
  {
   "cell_type": "code",
   "execution_count": 63,
   "metadata": {},
   "outputs": [
    {
     "data": {
      "text/plain": [
       "[array([[4.169863, 4.169863, 4.169863],\n",
       "        [4.139292, 4.139292, 4.139292]], dtype=float32),\n",
       " array([3.8330293, 3.8330293, 3.8330293], dtype=float32),\n",
       " array([[3.826666, 3.826666],\n",
       "        [3.826666, 3.826666],\n",
       "        [3.826666, 3.826666]], dtype=float32),\n",
       " array([3.8371463, 3.8371463], dtype=float32),\n",
       " array([[3.8036973],\n",
       "        [3.8036973]], dtype=float32),\n",
       " array([3.8036914], dtype=float32)]"
      ]
     },
     "execution_count": 63,
     "metadata": {},
     "output_type": "execute_result"
    }
   ],
   "source": [
    "model.get_weights()"
   ]
  },
  {
   "cell_type": "code",
   "execution_count": 47,
   "metadata": {
    "execution": {
     "iopub.execute_input": "2022-03-06T03:36:33.569903Z",
     "iopub.status.busy": "2022-03-06T03:36:33.569599Z",
     "iopub.status.idle": "2022-03-06T03:36:33.770856Z",
     "shell.execute_reply": "2022-03-06T03:36:33.770114Z",
     "shell.execute_reply.started": "2022-03-06T03:36:33.569868Z"
    }
   },
   "outputs": [
    {
     "name": "stdout",
     "output_type": "stream",
     "text": [
      "3/3 [==============================] - 0s 3ms/step\n"
     ]
    }
   ],
   "source": [
    "y_pred = model.predict(X_train)"
   ]
  },
  {
   "cell_type": "code",
   "execution_count": 48,
   "metadata": {
    "execution": {
     "iopub.execute_input": "2022-03-06T03:36:43.782192Z",
     "iopub.status.busy": "2022-03-06T03:36:43.781671Z",
     "iopub.status.idle": "2022-03-06T03:36:43.789507Z",
     "shell.execute_reply": "2022-03-06T03:36:43.788484Z",
     "shell.execute_reply.started": "2022-03-06T03:36:43.782156Z"
    }
   },
   "outputs": [],
   "source": [
    "y_pred=np.where(y_pred>0.5,1,0)"
   ]
  },
  {
   "cell_type": "code",
   "execution_count": 49,
   "metadata": {},
   "outputs": [],
   "source": [
    "y_pred=y_pred.flatten()"
   ]
  },
  {
   "cell_type": "code",
   "execution_count": 50,
   "metadata": {
    "execution": {
     "iopub.execute_input": "2022-03-06T03:37:01.490157Z",
     "iopub.status.busy": "2022-03-06T03:37:01.489866Z",
     "iopub.status.idle": "2022-03-06T03:37:01.498513Z",
     "shell.execute_reply": "2022-03-06T03:37:01.497608Z",
     "shell.execute_reply.started": "2022-03-06T03:37:01.490129Z"
    }
   },
   "outputs": [
    {
     "data": {
      "text/plain": [
       "0.5125"
      ]
     },
     "execution_count": 50,
     "metadata": {},
     "output_type": "execute_result"
    }
   ],
   "source": [
    "from sklearn.metrics import accuracy_score\n",
    "accuracy_score(y_train,y_pred)"
   ]
  },
  {
   "cell_type": "code",
   "execution_count": 51,
   "metadata": {
    "execution": {
     "iopub.execute_input": "2022-03-06T03:37:10.534504Z",
     "iopub.status.busy": "2022-03-06T03:37:10.534076Z",
     "iopub.status.idle": "2022-03-06T03:37:10.742592Z",
     "shell.execute_reply": "2022-03-06T03:37:10.741662Z",
     "shell.execute_reply.started": "2022-03-06T03:37:10.534473Z"
    }
   },
   "outputs": [
    {
     "data": {
      "text/plain": [
       "<matplotlib.legend.Legend at 0x2ad8303b0d0>"
      ]
     },
     "execution_count": 51,
     "metadata": {},
     "output_type": "execute_result"
    },
    {
     "data": {
      "image/png": "[encoded data removed]",
      "text/plain": [
       "<Figure size 640x480 with 1 Axes>"
      ]
     },
     "metadata": {},
     "output_type": "display_data"
    }
   ],
   "source": [
    "import matplotlib.pyplot as plt\n",
    "\n",
    "plt.plot(history.history['loss'],label=\"tr\")\n",
    "plt.plot(history.history['val_loss'],label=\"cv\")\n",
    "plt.legend()"
   ]
  },
  {
   "cell_type": "code",
   "execution_count": 52,
   "metadata": {},
   "outputs": [],
   "source": [
    "from mlxtend.plotting import plot_decision_regions"
   ]
  },
  {
   "cell_type": "code",
   "execution_count": 64,
   "metadata": {},
   "outputs": [
    {
     "name": "stdout",
     "output_type": "stream",
     "text": [
      "9600/9600 [==============================] - 18s 2ms/step\n"
     ]
    },
    {
     "name": "stderr",
     "output_type": "stream",
     "text": [
      "C:\\Users\\LENOVO\\anaconda3\\lib\\site-packages\\mlxtend\\plotting\\decision_regions.py:269: UserWarning: No contour levels were found within the data range.\n",
      "  ax.contour(xx, yy, Z, cset.levels, **contour_kwargs)\n"
     ]
    },
    {
     "data": {
      "text/plain": [
       "<AxesSubplot:>"
      ]
     },
     "execution_count": 64,
     "metadata": {},
     "output_type": "execute_result"
    },
    {
     "data": {
      "image/png": "[encoded data removed]",
      "text/plain": [
       "<Figure size 640x480 with 1 Axes>"
      ]
     },
     "metadata": {},
     "output_type": "display_data"
    }
   ],
   "source": [
    "plot_decision_regions(X_train[[0,1]].values,y_train.values.astype(int),clf=model)"
   ]
  },
  {
   "cell_type": "code",
   "execution_count": 63,
   "metadata": {},
   "outputs": [],
   "source": [
    "model = Sequential()\n",
    "\n",
    "model.add(Dense(3,activation='sigmoid',input_dim=2))\n",
    "model.add(Dense(2,activation='sigmoid'))\n",
    "model.add(Dense(1,activation='sigmoid'))"
   ]
  },
  {
   "cell_type": "code",
   "execution_count": 64,
   "metadata": {},
   "outputs": [
    {
     "name": "stdout",
     "output_type": "stream",
     "text": [
      "Model: \"sequential_4\"\n",
      "_________________________________________________________________\n",
      " Layer (type)                Output Shape              Param #   \n",
      "=================================================================\n",
      " dense_12 (Dense)            (None, 3)                 9         \n",
      "                                                                 \n",
      " dense_13 (Dense)            (None, 2)                 8         \n",
      "                                                                 \n",
      " dense_14 (Dense)            (None, 1)                 3         \n",
      "                                                                 \n",
      "=================================================================\n",
      "Total params: 20\n",
      "Trainable params: 20\n",
      "Non-trainable params: 0\n",
      "_________________________________________________________________\n"
     ]
    }
   ],
   "source": [
    "model.summary()"
   ]
  },
  {
   "cell_type": "code",
   "execution_count": 65,
   "metadata": {},
   "outputs": [],
   "source": [
    "weights=model.get_weights()"
   ]
  },
  {
   "cell_type": "code",
   "execution_count": 71,
   "metadata": {},
   "outputs": [],
   "source": [
    "weights[0]=np.full(weights[0].shape,3)\n",
    "weights[1]=np.full(weights[1].shape,3)\n",
    "weights[2]=np.full(weights[2].shape,3)\n",
    "weights[3]=np.full(weights[3].shape,3)\n",
    "weights[4]=np.full(weights[4].shape,3)\n",
    "weights[5]=np.full(weights[5].shape,3)\n",
    "model.set_weights(weights)"
   ]
  },
  {
   "cell_type": "code",
   "execution_count": 72,
   "metadata": {},
   "outputs": [],
   "source": [
    "model.compile(optimizer='Adam',loss='binary_crossentropy',metrics=['accuracy'])"
   ]
  },
  {
   "cell_type": "code",
   "execution_count": 73,
   "metadata": {},
   "outputs": [
    {
     "name": "stdout",
     "output_type": "stream",
     "text": [
      "Epoch 1/100\n",
      "2/2 [==============================] - 1s 241ms/step - loss: 4.7801 - accuracy: 0.4688 - val_loss: 3.9350 - val_accuracy: 0.5625\n",
      "Epoch 2/100\n",
      "2/2 [==============================] - 0s 41ms/step - loss: 4.7770 - accuracy: 0.4688 - val_loss: 3.9324 - val_accuracy: 0.5625\n",
      "Epoch 3/100\n",
      "2/2 [==============================] - 0s 36ms/step - loss: 4.7737 - accuracy: 0.4688 - val_loss: 3.9297 - val_accuracy: 0.5625\n",
      "Epoch 4/100\n",
      "2/2 [==============================] - 0s 40ms/step - loss: 4.7704 - accuracy: 0.4688 - val_loss: 3.9271 - val_accuracy: 0.5625\n",
      "Epoch 5/100\n",
      "2/2 [==============================] - 0s 49ms/step - loss: 4.7673 - accuracy: 0.4688 - val_loss: 3.9245 - val_accuracy: 0.5625\n",
      "Epoch 6/100\n",
      "2/2 [==============================] - 0s 44ms/step - loss: 4.7641 - accuracy: 0.4688 - val_loss: 3.9218 - val_accuracy: 0.5625\n",
      "Epoch 7/100\n",
      "2/2 [==============================] - 0s 38ms/step - loss: 4.7608 - accuracy: 0.4688 - val_loss: 3.9192 - val_accuracy: 0.5625\n",
      "Epoch 8/100\n",
      "2/2 [==============================] - 0s 51ms/step - loss: 4.7577 - accuracy: 0.4688 - val_loss: 3.9166 - val_accuracy: 0.5625\n",
      "Epoch 9/100\n",
      "2/2 [==============================] - 0s 57ms/step - loss: 4.7546 - accuracy: 0.4688 - val_loss: 3.9140 - val_accuracy: 0.5625\n",
      "Epoch 10/100\n",
      "2/2 [==============================] - 0s 43ms/step - loss: 4.7513 - accuracy: 0.4688 - val_loss: 3.9114 - val_accuracy: 0.5625\n",
      "Epoch 11/100\n",
      "2/2 [==============================] - 0s 38ms/step - loss: 4.7482 - accuracy: 0.4688 - val_loss: 3.9088 - val_accuracy: 0.5625\n",
      "Epoch 12/100\n",
      "2/2 [==============================] - 0s 57ms/step - loss: 4.7450 - accuracy: 0.4688 - val_loss: 3.9062 - val_accuracy: 0.5625\n",
      "Epoch 13/100\n",
      "2/2 [==============================] - 0s 40ms/step - loss: 4.7419 - accuracy: 0.4688 - val_loss: 3.9036 - val_accuracy: 0.5625\n",
      "Epoch 14/100\n",
      "2/2 [==============================] - 0s 44ms/step - loss: 4.7388 - accuracy: 0.4688 - val_loss: 3.9011 - val_accuracy: 0.5625\n",
      "Epoch 15/100\n",
      "2/2 [==============================] - 0s 61ms/step - loss: 4.7357 - accuracy: 0.4688 - val_loss: 3.8985 - val_accuracy: 0.5625\n",
      "Epoch 16/100\n",
      "2/2 [==============================] - 0s 49ms/step - loss: 4.7326 - accuracy: 0.4688 - val_loss: 3.8960 - val_accuracy: 0.5625\n",
      "Epoch 17/100\n",
      "2/2 [==============================] - 0s 53ms/step - loss: 4.7296 - accuracy: 0.4688 - val_loss: 3.8935 - val_accuracy: 0.5625\n",
      "Epoch 18/100\n",
      "2/2 [==============================] - 0s 50ms/step - loss: 4.7263 - accuracy: 0.4688 - val_loss: 3.8910 - val_accuracy: 0.5625\n",
      "Epoch 19/100\n",
      "2/2 [==============================] - 0s 44ms/step - loss: 4.7233 - accuracy: 0.4688 - val_loss: 3.8884 - val_accuracy: 0.5625\n",
      "Epoch 20/100\n",
      "2/2 [==============================] - 0s 37ms/step - loss: 4.7202 - accuracy: 0.4688 - val_loss: 3.8858 - val_accuracy: 0.5625\n",
      "Epoch 21/100\n",
      "2/2 [==============================] - 0s 55ms/step - loss: 4.7171 - accuracy: 0.4688 - val_loss: 3.8832 - val_accuracy: 0.5625\n",
      "Epoch 22/100\n",
      "2/2 [==============================] - 0s 45ms/step - loss: 4.7139 - accuracy: 0.4688 - val_loss: 3.8806 - val_accuracy: 0.5625\n",
      "Epoch 23/100\n",
      "2/2 [==============================] - 0s 31ms/step - loss: 4.7108 - accuracy: 0.4688 - val_loss: 3.8781 - val_accuracy: 0.5625\n",
      "Epoch 24/100\n",
      "2/2 [==============================] - 0s 55ms/step - loss: 4.7078 - accuracy: 0.4688 - val_loss: 3.8755 - val_accuracy: 0.5625\n",
      "Epoch 25/100\n",
      "2/2 [==============================] - 0s 48ms/step - loss: 4.7044 - accuracy: 0.4688 - val_loss: 3.8730 - val_accuracy: 0.5625\n",
      "Epoch 26/100\n",
      "2/2 [==============================] - 0s 42ms/step - loss: 4.7015 - accuracy: 0.4688 - val_loss: 3.8704 - val_accuracy: 0.5625\n",
      "Epoch 27/100\n",
      "2/2 [==============================] - 0s 40ms/step - loss: 4.6983 - accuracy: 0.4688 - val_loss: 3.8679 - val_accuracy: 0.5625\n",
      "Epoch 28/100\n",
      "2/2 [==============================] - 0s 33ms/step - loss: 4.6953 - accuracy: 0.4688 - val_loss: 3.8654 - val_accuracy: 0.5625\n",
      "Epoch 29/100\n",
      "2/2 [==============================] - 0s 53ms/step - loss: 4.6921 - accuracy: 0.4688 - val_loss: 3.8628 - val_accuracy: 0.5625\n",
      "Epoch 30/100\n",
      "2/2 [==============================] - 0s 50ms/step - loss: 4.6891 - accuracy: 0.4688 - val_loss: 3.8603 - val_accuracy: 0.5625\n",
      "Epoch 31/100\n",
      "2/2 [==============================] - 0s 48ms/step - loss: 4.6861 - accuracy: 0.4688 - val_loss: 3.8578 - val_accuracy: 0.5625\n",
      "Epoch 32/100\n",
      "2/2 [==============================] - 0s 66ms/step - loss: 4.6830 - accuracy: 0.4688 - val_loss: 3.8553 - val_accuracy: 0.5625\n",
      "Epoch 33/100\n",
      "2/2 [==============================] - 0s 66ms/step - loss: 4.6799 - accuracy: 0.4688 - val_loss: 3.8528 - val_accuracy: 0.5625\n",
      "Epoch 34/100\n",
      "2/2 [==============================] - 0s 50ms/step - loss: 4.6769 - accuracy: 0.4688 - val_loss: 3.8503 - val_accuracy: 0.5625\n",
      "Epoch 35/100\n",
      "2/2 [==============================] - 0s 50ms/step - loss: 4.6739 - accuracy: 0.4688 - val_loss: 3.8478 - val_accuracy: 0.5625\n",
      "Epoch 36/100\n",
      "2/2 [==============================] - 0s 58ms/step - loss: 4.6708 - accuracy: 0.4688 - val_loss: 3.8453 - val_accuracy: 0.5625\n",
      "Epoch 37/100\n",
      "2/2 [==============================] - 0s 42ms/step - loss: 4.6678 - accuracy: 0.4688 - val_loss: 3.8428 - val_accuracy: 0.5625\n",
      "Epoch 38/100\n",
      "2/2 [==============================] - 0s 33ms/step - loss: 4.6648 - accuracy: 0.4688 - val_loss: 3.8404 - val_accuracy: 0.5625\n",
      "Epoch 39/100\n",
      "2/2 [==============================] - 0s 35ms/step - loss: 4.6616 - accuracy: 0.4688 - val_loss: 3.8379 - val_accuracy: 0.5625\n",
      "Epoch 40/100\n",
      "2/2 [==============================] - 0s 38ms/step - loss: 4.6586 - accuracy: 0.4688 - val_loss: 3.8353 - val_accuracy: 0.5625\n",
      "Epoch 41/100\n",
      "2/2 [==============================] - 0s 40ms/step - loss: 4.6556 - accuracy: 0.4688 - val_loss: 3.8327 - val_accuracy: 0.5625\n",
      "Epoch 42/100\n",
      "2/2 [==============================] - 0s 39ms/step - loss: 4.6524 - accuracy: 0.4688 - val_loss: 3.8301 - val_accuracy: 0.5625\n",
      "Epoch 43/100\n",
      "2/2 [==============================] - 0s 31ms/step - loss: 4.6494 - accuracy: 0.4688 - val_loss: 3.8276 - val_accuracy: 0.5625\n",
      "Epoch 44/100\n",
      "2/2 [==============================] - 0s 36ms/step - loss: 4.6462 - accuracy: 0.4688 - val_loss: 3.8251 - val_accuracy: 0.5625\n",
      "Epoch 45/100\n",
      "2/2 [==============================] - 0s 30ms/step - loss: 4.6430 - accuracy: 0.4688 - val_loss: 3.8225 - val_accuracy: 0.5625\n",
      "Epoch 46/100\n",
      "2/2 [==============================] - 0s 30ms/step - loss: 4.6400 - accuracy: 0.4688 - val_loss: 3.8200 - val_accuracy: 0.5625\n",
      "Epoch 47/100\n",
      "2/2 [==============================] - 0s 33ms/step - loss: 4.6366 - accuracy: 0.4688 - val_loss: 3.8174 - val_accuracy: 0.5625\n",
      "Epoch 48/100\n",
      "2/2 [==============================] - 0s 32ms/step - loss: 4.6336 - accuracy: 0.4688 - val_loss: 3.8147 - val_accuracy: 0.5625\n",
      "Epoch 49/100\n",
      "2/2 [==============================] - 0s 29ms/step - loss: 4.6304 - accuracy: 0.4688 - val_loss: 3.8120 - val_accuracy: 0.5625\n",
      "Epoch 50/100\n",
      "2/2 [==============================] - 0s 30ms/step - loss: 4.6273 - accuracy: 0.4688 - val_loss: 3.8094 - val_accuracy: 0.5625\n",
      "Epoch 51/100\n",
      "2/2 [==============================] - 0s 40ms/step - loss: 4.6239 - accuracy: 0.4688 - val_loss: 3.8068 - val_accuracy: 0.5625\n",
      "Epoch 52/100\n",
      "2/2 [==============================] - 0s 32ms/step - loss: 4.6208 - accuracy: 0.4688 - val_loss: 3.8042 - val_accuracy: 0.5625\n",
      "Epoch 53/100\n",
      "2/2 [==============================] - 0s 36ms/step - loss: 4.6176 - accuracy: 0.4688 - val_loss: 3.8017 - val_accuracy: 0.5625\n",
      "Epoch 54/100\n",
      "2/2 [==============================] - 0s 51ms/step - loss: 4.6145 - accuracy: 0.4688 - val_loss: 3.7991 - val_accuracy: 0.5625\n",
      "Epoch 55/100\n",
      "2/2 [==============================] - 0s 57ms/step - loss: 4.6112 - accuracy: 0.4688 - val_loss: 3.7965 - val_accuracy: 0.5625\n",
      "Epoch 56/100\n",
      "2/2 [==============================] - 0s 41ms/step - loss: 4.6082 - accuracy: 0.4688 - val_loss: 3.7938 - val_accuracy: 0.5625\n",
      "Epoch 57/100\n",
      "2/2 [==============================] - 0s 40ms/step - loss: 4.6049 - accuracy: 0.4688 - val_loss: 3.7912 - val_accuracy: 0.5625\n",
      "Epoch 58/100\n",
      "2/2 [==============================] - 0s 37ms/step - loss: 4.6018 - accuracy: 0.4688 - val_loss: 3.7886 - val_accuracy: 0.5625\n",
      "Epoch 59/100\n",
      "2/2 [==============================] - 0s 30ms/step - loss: 4.5987 - accuracy: 0.4688 - val_loss: 3.7860 - val_accuracy: 0.5625\n",
      "Epoch 60/100\n",
      "2/2 [==============================] - 0s 49ms/step - loss: 4.5954 - accuracy: 0.4688 - val_loss: 3.7834 - val_accuracy: 0.5625\n",
      "Epoch 61/100\n",
      "2/2 [==============================] - 0s 33ms/step - loss: 4.5923 - accuracy: 0.4688 - val_loss: 3.7809 - val_accuracy: 0.5625\n",
      "Epoch 62/100\n",
      "2/2 [==============================] - 0s 33ms/step - loss: 4.5891 - accuracy: 0.4688 - val_loss: 3.7783 - val_accuracy: 0.5625\n",
      "Epoch 63/100\n",
      "2/2 [==============================] - 0s 40ms/step - loss: 4.5860 - accuracy: 0.4688 - val_loss: 3.7757 - val_accuracy: 0.5625\n",
      "Epoch 64/100\n",
      "2/2 [==============================] - 0s 41ms/step - loss: 4.5828 - accuracy: 0.4688 - val_loss: 3.7731 - val_accuracy: 0.5625\n",
      "Epoch 65/100\n",
      "2/2 [==============================] - 0s 37ms/step - loss: 4.5796 - accuracy: 0.4688 - val_loss: 3.7704 - val_accuracy: 0.5625\n",
      "Epoch 66/100\n",
      "2/2 [==============================] - 0s 36ms/step - loss: 4.5764 - accuracy: 0.4688 - val_loss: 3.7678 - val_accuracy: 0.5625\n",
      "Epoch 67/100\n",
      "2/2 [==============================] - 0s 28ms/step - loss: 4.5733 - accuracy: 0.4688 - val_loss: 3.7652 - val_accuracy: 0.5625\n",
      "Epoch 68/100\n",
      "2/2 [==============================] - 0s 35ms/step - loss: 4.5700 - accuracy: 0.4688 - val_loss: 3.7626 - val_accuracy: 0.5625\n",
      "Epoch 69/100\n",
      "2/2 [==============================] - 0s 38ms/step - loss: 4.5668 - accuracy: 0.4688 - val_loss: 3.7600 - val_accuracy: 0.5625\n",
      "Epoch 70/100\n",
      "2/2 [==============================] - 0s 36ms/step - loss: 4.5636 - accuracy: 0.4688 - val_loss: 3.7573 - val_accuracy: 0.5625\n",
      "Epoch 71/100\n",
      "2/2 [==============================] - 0s 31ms/step - loss: 4.5606 - accuracy: 0.4688 - val_loss: 3.7547 - val_accuracy: 0.5625\n",
      "Epoch 72/100\n",
      "2/2 [==============================] - 0s 29ms/step - loss: 4.5572 - accuracy: 0.4688 - val_loss: 3.7522 - val_accuracy: 0.5625\n",
      "Epoch 73/100\n",
      "2/2 [==============================] - 0s 40ms/step - loss: 4.5541 - accuracy: 0.4688 - val_loss: 3.7496 - val_accuracy: 0.5625\n",
      "Epoch 74/100\n",
      "2/2 [==============================] - 0s 34ms/step - loss: 4.5511 - accuracy: 0.4688 - val_loss: 3.7470 - val_accuracy: 0.5625\n",
      "Epoch 75/100\n",
      "2/2 [==============================] - 0s 33ms/step - loss: 4.5478 - accuracy: 0.4688 - val_loss: 3.7444 - val_accuracy: 0.5625\n",
      "Epoch 76/100\n",
      "2/2 [==============================] - 0s 44ms/step - loss: 4.5446 - accuracy: 0.4688 - val_loss: 3.7418 - val_accuracy: 0.5625\n",
      "Epoch 77/100\n",
      "2/2 [==============================] - 0s 44ms/step - loss: 4.5415 - accuracy: 0.4688 - val_loss: 3.7393 - val_accuracy: 0.5625\n",
      "Epoch 78/100\n",
      "2/2 [==============================] - 0s 46ms/step - loss: 4.5385 - accuracy: 0.4688 - val_loss: 3.7367 - val_accuracy: 0.5625\n",
      "Epoch 79/100\n",
      "2/2 [==============================] - 0s 41ms/step - loss: 4.5353 - accuracy: 0.4688 - val_loss: 3.7341 - val_accuracy: 0.5625\n",
      "Epoch 80/100\n",
      "2/2 [==============================] - 0s 45ms/step - loss: 4.5321 - accuracy: 0.4688 - val_loss: 3.7316 - val_accuracy: 0.5625\n",
      "Epoch 81/100\n",
      "2/2 [==============================] - 0s 40ms/step - loss: 4.5290 - accuracy: 0.4688 - val_loss: 3.7291 - val_accuracy: 0.5625\n",
      "Epoch 82/100\n",
      "2/2 [==============================] - 0s 42ms/step - loss: 4.5260 - accuracy: 0.4688 - val_loss: 3.7265 - val_accuracy: 0.5625\n",
      "Epoch 83/100\n",
      "2/2 [==============================] - 0s 36ms/step - loss: 4.5228 - accuracy: 0.4688 - val_loss: 3.7240 - val_accuracy: 0.5625\n",
      "Epoch 84/100\n",
      "2/2 [==============================] - 0s 36ms/step - loss: 4.5196 - accuracy: 0.4688 - val_loss: 3.7214 - val_accuracy: 0.5625\n",
      "Epoch 85/100\n",
      "2/2 [==============================] - 0s 35ms/step - loss: 4.5166 - accuracy: 0.4688 - val_loss: 3.7188 - val_accuracy: 0.5625\n",
      "Epoch 86/100\n",
      "2/2 [==============================] - 0s 39ms/step - loss: 4.5134 - accuracy: 0.4688 - val_loss: 3.7162 - val_accuracy: 0.5625\n",
      "Epoch 87/100\n",
      "2/2 [==============================] - 0s 47ms/step - loss: 4.5102 - accuracy: 0.4688 - val_loss: 3.7136 - val_accuracy: 0.5625\n",
      "Epoch 88/100\n",
      "2/2 [==============================] - 0s 38ms/step - loss: 4.5070 - accuracy: 0.4688 - val_loss: 3.7110 - val_accuracy: 0.5625\n",
      "Epoch 89/100\n",
      "2/2 [==============================] - 0s 27ms/step - loss: 4.5039 - accuracy: 0.4688 - val_loss: 3.7084 - val_accuracy: 0.5625\n",
      "Epoch 90/100\n",
      "2/2 [==============================] - 0s 49ms/step - loss: 4.5007 - accuracy: 0.4688 - val_loss: 3.7058 - val_accuracy: 0.5625\n",
      "Epoch 91/100\n",
      "2/2 [==============================] - 0s 51ms/step - loss: 4.4974 - accuracy: 0.4688 - val_loss: 3.7032 - val_accuracy: 0.5625\n",
      "Epoch 92/100\n",
      "2/2 [==============================] - 0s 51ms/step - loss: 4.4943 - accuracy: 0.4688 - val_loss: 3.7006 - val_accuracy: 0.5625\n",
      "Epoch 93/100\n",
      "2/2 [==============================] - 0s 45ms/step - loss: 4.4911 - accuracy: 0.4688 - val_loss: 3.6980 - val_accuracy: 0.5625\n",
      "Epoch 94/100\n",
      "2/2 [==============================] - 0s 43ms/step - loss: 4.4878 - accuracy: 0.4688 - val_loss: 3.6954 - val_accuracy: 0.5625\n",
      "Epoch 95/100\n",
      "2/2 [==============================] - 0s 44ms/step - loss: 4.4848 - accuracy: 0.4688 - val_loss: 3.6927 - val_accuracy: 0.5625\n",
      "Epoch 96/100\n",
      "2/2 [==============================] - 0s 42ms/step - loss: 4.4816 - accuracy: 0.4688 - val_loss: 3.6902 - val_accuracy: 0.5625\n",
      "Epoch 97/100\n",
      "2/2 [==============================] - 0s 39ms/step - loss: 4.4784 - accuracy: 0.4688 - val_loss: 3.6876 - val_accuracy: 0.5625\n",
      "Epoch 98/100\n",
      "2/2 [==============================] - 0s 38ms/step - loss: 4.4752 - accuracy: 0.4688 - val_loss: 3.6851 - val_accuracy: 0.5625\n",
      "Epoch 99/100\n",
      "2/2 [==============================] - 0s 34ms/step - loss: 4.4721 - accuracy: 0.4688 - val_loss: 3.6825 - val_accuracy: 0.5625\n",
      "Epoch 100/100\n",
      "2/2 [==============================] - 0s 44ms/step - loss: 4.4689 - accuracy: 0.4688 - val_loss: 3.6799 - val_accuracy: 0.5625\n"
     ]
    }
   ],
   "source": [
    "history = model.fit(X_train,y_train,batch_size=50,epochs=100,verbose=1,validation_split=0.2,)"
   ]
  },
  {
   "cell_type": "code",
   "execution_count": 60,
   "metadata": {},
   "outputs": [
    {
     "data": {
      "text/plain": [
       "[array([[-0.28811568, -0.28811568, -0.28811568],\n",
       "        [ 0.28903875,  0.28903875,  0.28903875]], dtype=float32),\n",
       " array([0.03420981, 0.03420981, 0.03420981], dtype=float32),\n",
       " array([[0.09975203, 0.09975203],\n",
       "        [0.09975203, 0.09975203],\n",
       "        [0.09975203, 0.09975203]], dtype=float32),\n",
       " array([0.03618505, 0.03618505], dtype=float32),\n",
       " array([[-0.03796045],\n",
       "        [-0.03796045]], dtype=float32),\n",
       " array([-0.03563974], dtype=float32)]"
      ]
     },
     "execution_count": 60,
     "metadata": {},
     "output_type": "execute_result"
    }
   ],
   "source": [
    "model.get_weights()"
   ]
  },
  {
   "cell_type": "code",
   "execution_count": 74,
   "metadata": {},
   "outputs": [
    {
     "name": "stdout",
     "output_type": "stream",
     "text": [
      "3/3 [==============================] - 0s 8ms/step\n"
     ]
    },
    {
     "data": {
      "text/plain": [
       "0.4875"
      ]
     },
     "execution_count": 74,
     "metadata": {},
     "output_type": "execute_result"
    }
   ],
   "source": [
    "y_pred = model.predict(X_train)\n",
    "y_pred=np.where(y_pred>0.5,1,0)\n",
    "y_pred=y_pred.flatten()\n",
    "from sklearn.metrics import accuracy_score\n",
    "accuracy_score(y_train,y_pred)"
   ]
  },
  {
   "cell_type": "code",
   "execution_count": 75,
   "metadata": {},
   "outputs": [
    {
     "name": "stdout",
     "output_type": "stream",
     "text": [
      "3888/3888 [==============================] - 4s 999us/step\n"
     ]
    },
    {
     "name": "stderr",
     "output_type": "stream",
     "text": [
      "C:\\Users\\saxon\\anaconda3\\lib\\site-packages\\mlxtend\\plotting\\decision_regions.py:269: UserWarning: No contour levels were found within the data range.\n",
      "  ax.contour(xx, yy, Z, cset.levels, **contour_kwargs)\n"
     ]
    },
    {
     "data": {
      "text/plain": [
       "<AxesSubplot:>"
      ]
     },
     "execution_count": 75,
     "metadata": {},
     "output_type": "execute_result"
    },
    {
     "data": {
      "image/png": "[encoded data removed]",
      "text/plain": [
       "<Figure size 432x288 with 1 Axes>"
      ]
     },
     "metadata": {
      "needs_background": "light"
     },
     "output_type": "display_data"
    }
   ],
   "source": [
    "plot_decision_regions(X_train[[0,1]].values,y_train.values.astype(int),clf=model)"
   ]
  }
 ],
 "metadata": {
  "kernelspec": {
   "display_name": "Python 3 (ipykernel)",
   "language": "python",
   "name": "python3"
  },
  "language_info": {
   "codemirror_mode": {
    "name": "ipython",
    "version": 3
   },
   "file_extension": ".py",
   "mimetype": "text/x-python",
   "name": "python",
   "nbconvert_exporter": "python",
   "pygments_lexer": "ipython3",
   "version": "3.9.12"
  }
 },
 "nbformat": 4,
 "nbformat_minor": 4
}
